{
 "cells": [
  {
   "cell_type": "markdown",
   "metadata": {},
   "source": [
    "## 2. A description and use of the data to solve the problem\n",
    "##### The restaurant is designed for all public, but it is reasonable to think that Venezuelan\n",
    "##### residents in the city would be the restaurant's main clients, at least at the beginning of\n",
    "##### the business, so it should obtain data from the estimate of Venezuelans living in Toronto or less\n",
    "##### the immigration figures of Venezuelans in recent years to this city, as a way to justify the project.\n",
    "\n",
    "##### According to the above, We will investigate a web page with immigration data of Venezuelans to\n",
    "##### the city of Toronto in Canada in the last 10 years, and a web scrapping will be done to present this\n",
    "##### information in the report. \n",
    "\n",
    "__Number of Venezuealan citizens who got permanent residence in Canada by year__\n",
    "\n",
    "\n",
    "| Year   | Total admited Venezuelan citizen | Total admited permanent resients | Percentage admited permanent residents |\n",
    "| ------ | ------                           | -----                           |  ------                                 | \n",
    "| 2012 | 1,373 | 257,895 | 0.5% |\n",
    "| 2013 | 1,022 | 258,953 | 0.4% |\n",
    "\n",
    "\n",
    "\n",
    "The data on neighborhoods and neighborhoods of Toronto will be obtained\n",
    "##### from the page:\n",
    "\n",
    "'https://en.wikipedia.org/wiki/List_of_postal_codes_of_Canada:_M')\n",
    "\n",
    "##### Which will be appropriate pre-processed (cleaned and grouped conveniently) to be able to use it\n",
    "##### and finally filtered only for the data associated with Toronto.\n",
    "\n",
    "##### The Geospatial coordinates will be obtained from the file Geospatial_Coordinates.csv.   located\n",
    "##### on the web page:\n",
    "\n",
    "http://cocl.us/Geospatial_data/Geospatial_Coordinates.csv\n",
    "\n",
    "\n",
    "|Postcode    |Borough         |Neighborhood                  |Latitude |Longitude   |\n",
    "| ------     | ------         | -----                        |  ------ | -----      |\n",
    "| M4E        |East Toronto    | The Beaches                  |43.676357| -79.293031 |\n",
    "| M4K        |East Toronto    | The Danforth West,Riverdale  |43.679557|-79.352188  |\n",
    "| M4L        |East Toronto    | The Beaches West,India Bazaar|43.668999|-79.315572  |\n",
    "| M4M        |East Toronto    | Studio District              |.659526  |-79.340923  |\n",
    "| M4N        |Central Toronto | Lawrence Park                |.728020  |-79.38879   |\n",
    "\n",
    "\n",
    "\n",
    "#####    A merge will be made with this data from different sources to have the consolidated data in\n",
    "##### a single dataframe. The geopy library will be used to get the latitude and longitude values of candidate\n",
    "##### sites to locate the restaurant of our clients and the Foursquare API to explore the neighborhoods and\n",
    "##### boroughs in Toronto from the possible locations of our client's restaurant.\n",
    "\n",
    "\n",
    "\n",
    "#####      The location of arepa restaurants in Toronto will be determined, but the algorithms will be\n",
    "##### run taking into account the locations of Latin American food restaurants: Mexican, Colombian, Peruvian, etc.\n",
    "##### The k-means algorithms will be applied to determine and examine the cluster and the recommended location or\n",
    "##### locations to set up the restaurant.\n",
    " \n"
   ]
  }
 ],
 "metadata": {
  "kernelspec": {
   "display_name": "Python 3",
   "language": "python",
   "name": "python3"
  },
  "language_info": {
   "codemirror_mode": {
    "name": "ipython",
    "version": 3
   },
   "file_extension": ".py",
   "mimetype": "text/x-python",
   "name": "python",
   "nbconvert_exporter": "python",
   "pygments_lexer": "ipython3",
   "version": "3.6.5"
  }
 },
 "nbformat": 4,
 "nbformat_minor": 2
}
